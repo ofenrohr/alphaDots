{
 "cells": [
  {
   "cell_type": "markdown",
   "metadata": {},
   "source": [
    "# Inspecting the sequence dataset\n",
    "\n",
    "## Data\n",
    "\n",
    "Full games are represented as image sequences (\"movies\"). The network has to predict the next frame of an unfinished sequence."
   ]
  },
  {
   "cell_type": "code",
   "execution_count": 2,
   "metadata": {},
   "outputs": [
    {
     "name": "stderr",
     "output_type": "stream",
     "text": [
      "Using TensorFlow backend.\n"
     ]
    }
   ],
   "source": [
    "import numpy as np\n",
    "import imageio\n",
    "from matplotlib.pyplot import imshow\n",
    "%matplotlib inline\n",
    "import keras.backend as K\n",
    "from keras.utils.np_utils import to_categorical\n",
    "import random\n"
   ]
  },
  {
   "cell_type": "code",
   "execution_count": 3,
   "metadata": {
    "collapsed": true
   },
   "outputs": [],
   "source": [
    "sequenceDataset = np.load('sequence5x4.npz')"
   ]
  },
  {
   "cell_type": "code",
   "execution_count": 4,
   "metadata": {},
   "outputs": [
    {
     "name": "stdout",
     "output_type": "stream",
     "text": [
      "(1000, 49, 11, 13)\n"
     ]
    }
   ],
   "source": [
    "games = sequenceDataset['games']\n",
    "print(games.shape)"
   ]
  },
  {
   "cell_type": "code",
   "execution_count": 5,
   "metadata": {},
   "outputs": [
    {
     "name": "stdout",
     "output_type": "stream",
     "text": [
      "[[  0   0   0   0   0   0   0   0   0   0   0   0   0]\n",
      " [  0 215 255 215 255 215 255 215 255 215 255 215   0]\n",
      " [  0 255 150 255 150 255 150 255 150 255  65 255   0]\n",
      " [  0 215 255 215 255 215 255 215 255 215 255 215   0]\n",
      " [  0 255 150 255 150 255 150 255 150 255  65 255   0]\n",
      " [  0 215 255 215 255 215 255 215 255 215 255 215   0]\n",
      " [  0 255 150 255 150 255 150 255 150 255   0   0   0]\n",
      " [  0 215 255 215 255 215 255 215 255 215 255 215   0]\n",
      " [  0 255 150 255 150 255  65 255  65 255 150 255   0]\n",
      " [  0 215 255 215 255 215 255 215 255 215 255 215   0]\n",
      " [  0   0   0   0   0   0   0   0   0   0   0   0   0]]\n"
     ]
    }
   ],
   "source": [
    "exampleGameIdx = 4\n",
    "exampleGameFrame = 47\n",
    "game = games[exampleGameIdx]\n",
    "print(game[exampleGameFrame])"
   ]
  },
  {
   "cell_type": "code",
   "execution_count": 6,
   "metadata": {
    "collapsed": true
   },
   "outputs": [],
   "source": [
    "imageio.mimwrite('test.gif', game)"
   ]
  },
  {
   "cell_type": "markdown",
   "metadata": {},
   "source": [
    "![Dots and Boxes game animation](test.gif)"
   ]
  },
  {
   "cell_type": "code",
   "execution_count": 7,
   "metadata": {
    "collapsed": true
   },
   "outputs": [],
   "source": [
    "game2 = np.kron(game, np.ones((10,10), dtype=np.uint8))\n",
    "imageio.mimwrite('test2.gif', game2)"
   ]
  },
  {
   "cell_type": "markdown",
   "metadata": {},
   "source": [
    "![Dots and Boxes game animation](test2.gif)"
   ]
  },
  {
   "cell_type": "code",
   "execution_count": 8,
   "metadata": {},
   "outputs": [
    {
     "name": "stdout",
     "output_type": "stream",
     "text": [
      "(1000, 48, 11, 13)\n",
      "(1000, 48, 11, 13)\n"
     ]
    }
   ],
   "source": [
    "x_train = games[:,:-1,:,:]\n",
    "y_train = games[:,1:,:,:]\n",
    "print(x_train.shape)\n",
    "print(y_train.shape)\n",
    "\n",
    "x_train = x_train.astype(K.floatx())\n",
    "y_train = y_train.astype(K.floatx())\n",
    "x_train /= 255\n",
    "y_train /= 255"
   ]
  },
  {
   "cell_type": "code",
   "execution_count": 9,
   "metadata": {},
   "outputs": [
    {
     "name": "stdout",
     "output_type": "stream",
     "text": [
      "[[ 0.    0.    0.    0.    0.    0.    0.    0.    0.    0.    0.    0.    0.  ]\n",
      " [ 0.    0.84  1.    0.84  1.    0.84  1.    0.84  1.    0.84  1.    0.84  0.  ]\n",
      " [ 0.    1.    0.59  1.    0.59  1.    0.59  1.    0.59  1.    0.25  1.    0.  ]\n",
      " [ 0.    0.84  1.    0.84  1.    0.84  1.    0.84  1.    0.84  1.    0.84  0.  ]\n",
      " [ 0.    1.    0.59  1.    0.59  1.    0.59  1.    0.59  1.    0.25  1.    0.  ]\n",
      " [ 0.    0.84  1.    0.84  1.    0.84  1.    0.84  1.    0.84  1.    0.84  0.  ]\n",
      " [ 0.    1.    0.59  1.    0.59  1.    0.59  1.    0.59  1.    0.    0.    0.  ]\n",
      " [ 0.    0.84  1.    0.84  1.    0.84  1.    0.84  1.    0.84  1.    0.84  0.  ]\n",
      " [ 0.    1.    0.59  1.    0.59  1.    0.25  1.    0.25  1.    0.59  1.    0.  ]\n",
      " [ 0.    0.84  1.    0.84  1.    0.84  1.    0.84  1.    0.84  1.    0.84  0.  ]\n",
      " [ 0.    0.    0.    0.    0.    0.    0.    0.    0.    0.    0.    0.    0.  ]]\n",
      "[[ 0.    0.    0.    0.    0.    0.    0.    0.    0.    0.    0.    0.    0.  ]\n",
      " [ 0.    0.84  1.    0.84  1.    0.84  1.    0.84  1.    0.84  1.    0.84  0.  ]\n",
      " [ 0.    1.    0.59  1.    0.59  1.    0.59  1.    0.59  1.    0.25  1.    0.  ]\n",
      " [ 0.    0.84  1.    0.84  1.    0.84  1.    0.84  1.    0.84  1.    0.84  0.  ]\n",
      " [ 0.    1.    0.59  1.    0.59  1.    0.59  1.    0.59  1.    0.25  1.    0.  ]\n",
      " [ 0.    0.84  1.    0.84  1.    0.84  1.    0.84  1.    0.84  1.    0.84  0.  ]\n",
      " [ 0.    1.    0.59  1.    0.59  1.    0.59  1.    0.59  1.    0.59  1.    0.  ]\n",
      " [ 0.    0.84  1.    0.84  1.    0.84  1.    0.84  1.    0.84  1.    0.84  0.  ]\n",
      " [ 0.    1.    0.59  1.    0.59  1.    0.25  1.    0.25  1.    0.59  1.    0.  ]\n",
      " [ 0.    0.84  1.    0.84  1.    0.84  1.    0.84  1.    0.84  1.    0.84  0.  ]\n",
      " [ 0.    0.    0.    0.    0.    0.    0.    0.    0.    0.    0.    0.    0.  ]]\n",
      "(1000, 48, 11, 13)\n",
      "(1000, 48, 11, 13)\n"
     ]
    }
   ],
   "source": [
    "np.set_printoptions(precision=2, suppress=True, linewidth=90)\n",
    "\n",
    "print(x_train[exampleGameIdx,exampleGameFrame])\n",
    "print(y_train[exampleGameIdx,exampleGameFrame])\n",
    "print(x_train.shape)\n",
    "print(y_train.shape)"
   ]
  },
  {
   "cell_type": "code",
   "execution_count": 13,
   "metadata": {},
   "outputs": [
    {
     "name": "stdout",
     "output_type": "stream",
     "text": [
      "(1000, 48, 11, 13, 2)\n",
      "[[ 1.  1.  1.  1.  1.  1.  1.  1.  1.  1.  1.  1.  1.]\n",
      " [ 1.  1.  0.  1.  0.  1.  0.  1.  0.  1.  0.  1.  1.]\n",
      " [ 1.  0.  1.  0.  1.  0.  1.  0.  1.  0.  1.  0.  1.]\n",
      " [ 1.  1.  0.  1.  0.  1.  0.  1.  0.  1.  0.  1.  1.]\n",
      " [ 1.  0.  1.  0.  1.  0.  1.  0.  1.  0.  1.  0.  1.]\n",
      " [ 1.  1.  0.  1.  0.  1.  0.  1.  0.  1.  0.  1.  1.]\n",
      " [ 1.  0.  1.  0.  1.  0.  1.  0.  1.  0.  1.  0.  1.]\n",
      " [ 1.  1.  0.  1.  0.  1.  0.  1.  0.  1.  0.  1.  1.]\n",
      " [ 1.  0.  1.  0.  1.  0.  1.  0.  1.  0.  1.  0.  1.]\n",
      " [ 1.  1.  0.  1.  0.  1.  0.  1.  0.  1.  0.  1.  1.]\n",
      " [ 1.  1.  1.  1.  1.  1.  1.  1.  1.  1.  1.  1.  1.]]\n",
      "[[ 0.  0.  0.  0.  0.  0.  0.  0.  0.  0.  0.  0.  0.]\n",
      " [ 0.  0.  1.  0.  1.  0.  1.  0.  1.  0.  1.  0.  0.]\n",
      " [ 0.  1.  0.  1.  0.  1.  0.  1.  0.  1.  0.  1.  0.]\n",
      " [ 0.  0.  1.  0.  1.  0.  1.  0.  1.  0.  1.  0.  0.]\n",
      " [ 0.  1.  0.  1.  0.  1.  0.  1.  0.  1.  0.  1.  0.]\n",
      " [ 0.  0.  1.  0.  1.  0.  1.  0.  1.  0.  1.  0.  0.]\n",
      " [ 0.  1.  0.  1.  0.  1.  0.  1.  0.  1.  0.  1.  0.]\n",
      " [ 0.  0.  1.  0.  1.  0.  1.  0.  1.  0.  1.  0.  0.]\n",
      " [ 0.  1.  0.  1.  0.  1.  0.  1.  0.  1.  0.  1.  0.]\n",
      " [ 0.  0.  1.  0.  1.  0.  1.  0.  1.  0.  1.  0.  0.]\n",
      " [ 0.  0.  0.  0.  0.  0.  0.  0.  0.  0.  0.  0.  0.]]\n"
     ]
    }
   ],
   "source": [
    "cat_shape = y_train.shape + (2,)\n",
    "y_cat = to_categorical(y_train).reshape(cat_shape)\n",
    "print(y_cat.shape)\n",
    "print(y_cat[exampleGameIdx,exampleGameFrame,:,:,0])\n",
    "print(y_cat[exampleGameIdx,exampleGameFrame,:,:,1])"
   ]
  },
  {
   "cell_type": "code",
   "execution_count": null,
   "metadata": {
    "collapsed": true
   },
   "outputs": [],
   "source": []
  }
 ],
 "metadata": {
  "kernelspec": {
   "display_name": "Python 2",
   "language": "python2",
   "name": "python2"
  },
  "language_info": {
   "codemirror_mode": {
    "name": "ipython",
    "version": 2
   },
   "file_extension": ".py",
   "mimetype": "text/x-python",
   "name": "python",
   "nbconvert_exporter": "python",
   "pygments_lexer": "ipython2",
   "version": "2.7.14"
  }
 },
 "nbformat": 4,
 "nbformat_minor": 2
}
