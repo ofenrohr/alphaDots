{
 "cells": [
  {
   "cell_type": "markdown",
   "metadata": {},
   "source": [
    "# Keras ConvLSTM2D network\n",
    "\n",
    "Use a network made of convolutional LSTM layers."
   ]
  },
  {
   "cell_type": "code",
   "execution_count": 20,
   "metadata": {},
   "outputs": [],
   "source": [
    "import numpy as np\n",
    "import tensorflow as tf\n",
    "from keras.models import *\n",
    "from keras.layers import *\n",
    "from keras.optimizers import *\n",
    "from keras.utils.np_utils import to_categorical\n",
    "from keras.utils import plot_model\n",
    "from keras.callbacks import *\n",
    "import keras.backend as K\n",
    "import imageio\n",
    "from PIL import Image\n",
    "from matplotlib.pyplot import imshow\n",
    "%matplotlib inline\n",
    "import random\n",
    "\n",
    "import sys\n",
    "sys.path.append('..')\n",
    "import SequenceLineFilterLayer\n",
    "\n",
    "modelPath = 'model/LSTMCategoricalV2.h5'"
   ]
  },
  {
   "cell_type": "markdown",
   "metadata": {},
   "source": [
    "## Model"
   ]
  },
  {
   "cell_type": "markdown",
   "metadata": {
    "collapsed": true
   },
   "source": [
    "## Data\n",
    "\n",
    "Full games are represented as image sequences (\"movies\"). The network has to predict the next frame of an unfinished sequence.\n",
    "\n",
    "The input data is the full game without the last state where all lines are filled in. The output data is the full game without the very first state where no lines are drawn."
   ]
  },
  {
   "cell_type": "code",
   "execution_count": 3,
   "metadata": {},
   "outputs": [
    {
     "name": "stdout",
     "output_type": "stream",
     "text": [
      "(50000, 49, 11, 13)\n"
     ]
    }
   ],
   "source": [
    "sequenceDataset = np.load('LSTM-5x4.npz')\n",
    "games = sequenceDataset['games']\n",
    "print(games.shape)"
   ]
  },
  {
   "cell_type": "code",
   "execution_count": 5,
   "metadata": {},
   "outputs": [
    {
     "name": "stdout",
     "output_type": "stream",
     "text": [
      "LineFilterLayer from_config!\n",
      "using static image size 13 x 11\n"
     ]
    }
   ],
   "source": [
    "SequenceLineFilterLayer.SequenceLineFilterLayer.imgWidth = games.shape[-1]\n",
    "SequenceLineFilterLayer.SequenceLineFilterLayer.imgHeight = games.shape[-2]\n",
    "model = load_model(modelPath, custom_objects={'SequenceLineFilterLayer':SequenceLineFilterLayer.SequenceLineFilterLayer})"
   ]
  },
  {
   "cell_type": "code",
   "execution_count": 12,
   "metadata": {},
   "outputs": [
    {
     "name": "stdout",
     "output_type": "stream",
     "text": [
      "_________________________________________________________________\n",
      "Layer (type)                 Output Shape              Param #   \n",
      "=================================================================\n",
      "conv_lst_m2d_1 (ConvLSTM2D)  (None, None, None, None,  164160    \n",
      "_________________________________________________________________\n",
      "batch_normalization_1 (Batch (None, None, None, None,  160       \n",
      "_________________________________________________________________\n",
      "conv_lst_m2d_2 (ConvLSTM2D)  (None, None, None, None,  320160    \n",
      "_________________________________________________________________\n",
      "batch_normalization_2 (Batch (None, None, None, None,  160       \n",
      "_________________________________________________________________\n",
      "conv_lst_m2d_3 (ConvLSTM2D)  (None, None, None, None,  320160    \n",
      "_________________________________________________________________\n",
      "batch_normalization_3 (Batch (None, None, None, None,  160       \n",
      "_________________________________________________________________\n",
      "conv_lst_m2d_4 (ConvLSTM2D)  (None, None, None, None,  320160    \n",
      "_________________________________________________________________\n",
      "batch_normalization_4 (Batch (None, None, None, None,  160       \n",
      "_________________________________________________________________\n",
      "conv_lst_m2d_5 (ConvLSTM2D)  (None, None, None, None,  320160    \n",
      "_________________________________________________________________\n",
      "batch_normalization_5 (Batch (None, None, None, None,  160       \n",
      "_________________________________________________________________\n",
      "conv3d_1 (Conv3D)            (None, None, None, None,  5001      \n",
      "_________________________________________________________________\n",
      "sequence_line_filter_layer_2 (None, None, None)        0         \n",
      "_________________________________________________________________\n",
      "activation_1 (Activation)    (None, None, None)        0         \n",
      "=================================================================\n",
      "Total params: 1,450,601\n",
      "Trainable params: 1,450,201\n",
      "Non-trainable params: 400\n",
      "_________________________________________________________________\n"
     ]
    }
   ],
   "source": [
    "seq = Sequential()\n",
    "seq.add(ConvLSTM2D(filters=40, kernel_size=(5, 5),\n",
    "                   input_shape=(None, None, None, 1),\n",
    "                   padding='same', return_sequences=True))\n",
    "seq.add(BatchNormalization())\n",
    "\n",
    "seq.add(ConvLSTM2D(filters=40, kernel_size=(5, 5),\n",
    "                   padding='same', return_sequences=True))\n",
    "seq.add(BatchNormalization())\n",
    "\n",
    "seq.add(ConvLSTM2D(filters=40, kernel_size=(5, 5),\n",
    "                   padding='same', return_sequences=True))\n",
    "seq.add(BatchNormalization())\n",
    "\n",
    "seq.add(ConvLSTM2D(filters=40, kernel_size=(5, 5),\n",
    "                   padding='same', return_sequences=True))\n",
    "seq.add(BatchNormalization())\n",
    "\n",
    "seq.add(ConvLSTM2D(filters=40, kernel_size=(5, 5),\n",
    "                   padding='same', return_sequences=True))\n",
    "seq.add(BatchNormalization())\n",
    "\n",
    "seq.add(Conv3D(filters=1, kernel_size=(5,5,5), padding='same'))\n",
    "\n",
    "seq.add(SequenceLineFilterLayer.SequenceLineFilterLayer(games.shape[-1], games.shape[-2], noShapeCheck=True))\n",
    "\n",
    "seq.add(Activation('softmax'))\n",
    "\n",
    "seq.compile(loss='categorical_crossentropy', optimizer='adadelta')\n",
    "\n",
    "model = seq\n",
    "model.summary()\n"
   ]
  },
  {
   "cell_type": "code",
   "execution_count": 13,
   "metadata": {},
   "outputs": [
    {
     "name": "stdout",
     "output_type": "stream",
     "text": [
      "(None, None, None, None, 40)\n",
      "(None, None, None, None, 40)\n",
      "(None, None, None, None, 40)\n",
      "(None, None, None, None, 40)\n",
      "(None, None, None, None, 40)\n",
      "(None, None, None, None, 40)\n",
      "(None, None, None, None, 40)\n",
      "(None, None, None, None, 40)\n",
      "(None, None, None, None, 40)\n",
      "(None, None, None, None, 40)\n",
      "(None, None, None, None, 1)\n",
      "(None, None, None)\n",
      "(None, None, None)\n"
     ]
    }
   ],
   "source": [
    "for layer in model.layers:\n",
    "    print(layer.output_shape)"
   ]
  },
  {
   "cell_type": "code",
   "execution_count": 14,
   "metadata": {},
   "outputs": [
    {
     "data": {
      "text/plain": [
       "array([[False, False, False, False, False, False, False, False, False, False, False,\n",
       "        False, False],\n",
       "       [False, False,  True, False,  True, False,  True, False,  True, False,  True,\n",
       "        False, False],\n",
       "       [False,  True, False,  True, False,  True, False,  True, False,  True, False,\n",
       "         True, False],\n",
       "       [False, False,  True, False,  True, False,  True, False,  True, False,  True,\n",
       "        False, False],\n",
       "       [False,  True, False,  True, False,  True, False,  True, False,  True, False,\n",
       "         True, False],\n",
       "       [False, False,  True, False,  True, False,  True, False,  True, False,  True,\n",
       "        False, False],\n",
       "       [False,  True, False,  True, False,  True, False,  True, False,  True, False,\n",
       "         True, False],\n",
       "       [False, False,  True, False,  True, False,  True, False,  True, False,  True,\n",
       "        False, False],\n",
       "       [False,  True, False,  True, False,  True, False,  True, False,  True, False,\n",
       "         True, False],\n",
       "       [False, False,  True, False,  True, False,  True, False,  True, False,  True,\n",
       "        False, False],\n",
       "       [False, False, False, False, False, False, False, False, False, False, False,\n",
       "        False, False]])"
      ]
     },
     "execution_count": 14,
     "metadata": {},
     "output_type": "execute_result"
    }
   ],
   "source": [
    "def imgSizeToBoxes(x):\n",
    "    return (x-3)/2\n",
    "\n",
    "def lineFilterMatrixNP(imgWidth,imgHeight):\n",
    "    boxWidth = imgSizeToBoxes(imgWidth)\n",
    "    boxHeight = imgSizeToBoxes(imgHeight)\n",
    "    linesCnt = 2*boxWidth*boxHeight+boxWidth+boxHeight\n",
    "    mat = np.zeros((imgHeight, imgWidth), dtype=np.bool)\n",
    "    for idx in range(linesCnt):\n",
    "        y1 = idx / ((2*boxWidth) + 1)\n",
    "        if idx % ((2*boxWidth) + 1) < boxWidth:\n",
    "            # horizontal line\n",
    "            x1 = idx % ((2*boxWidth) + 1)\n",
    "            x2 = x1 + 1\n",
    "            y2 = y1\n",
    "        else:\n",
    "            # vertical line\n",
    "            x1 = idx % ((2*boxWidth) + 1) - boxWidth\n",
    "            x2 = x1\n",
    "            y2 = y1 + 1\n",
    "        px = x2 * 2 + y2 - y1\n",
    "        py = y2 * 2 + x2 - x1\n",
    "        mat[py,px] = 1\n",
    "    return mat\n",
    "\n",
    "lineFilterMatrixNP(13,11)"
   ]
  },
  {
   "cell_type": "code",
   "execution_count": 15,
   "metadata": {},
   "outputs": [
    {
     "name": "stdout",
     "output_type": "stream",
     "text": [
      "(50000, 48, 11, 13)\n",
      "(50000, 48, 49)\n",
      "[[0.   0.   0.   0.   0.   0.   0.   0.   0.   0.   0.   0.   0.  ]\n",
      " [0.   0.84 0.   0.84 1.   0.84 0.   0.84 0.   0.84 0.   0.84 0.  ]\n",
      " [0.   1.   0.   0.   0.   0.   0.   1.   0.   0.   0.   0.   0.  ]\n",
      " [0.   0.84 0.   0.84 0.   0.84 0.   0.84 0.   0.84 0.   0.84 0.  ]\n",
      " [0.   0.   0.   0.   0.   0.   0.   1.   0.   0.   0.   0.   0.  ]\n",
      " [0.   0.84 0.   0.84 0.   0.84 0.   0.84 0.   0.84 1.   0.84 0.  ]\n",
      " [0.   1.   0.   0.   0.   0.   0.   1.   0.   0.   0.   1.   0.  ]\n",
      " [0.   0.84 0.   0.84 0.   0.84 0.   0.84 0.   0.84 0.   0.84 0.  ]\n",
      " [0.   0.   0.   0.   0.   0.   0.   0.   0.   1.   0.   0.   0.  ]\n",
      " [0.   0.84 0.   0.84 0.   0.84 1.   0.84 1.   0.84 0.   0.84 0.  ]\n",
      " [0.   0.   0.   0.   0.   0.   0.   0.   0.   0.   0.   0.   0.  ]]\n",
      "[0. 0. 0. 0. 0. 0. 0. 0. 0. 0. 0. 0. 0. 0. 0. 0. 0. 0. 0. 0. 0. 0. 0. 0. 0. 0. 0. 0. 0.\n",
      " 0. 0. 0. 0. 0. 0. 0. 0. 0. 0. 0. 0. 0. 0. 0. 1. 0. 0. 0. 0.]\n",
      "[[0 0 0 0 0 0 0 0 0 0 0 0 0]\n",
      " [0 0 0 0 0 0 0 0 0 0 1 0 0]\n",
      " [0 0 0 0 0 0 0 0 0 0 0 0 0]\n",
      " [0 0 0 0 0 0 0 0 0 0 0 0 0]\n",
      " [0 0 0 0 0 0 0 0 0 0 0 0 0]\n",
      " [0 0 0 0 0 0 0 0 0 0 0 0 0]\n",
      " [0 0 0 0 0 0 0 0 0 0 0 0 0]\n",
      " [0 0 0 0 0 0 0 0 0 0 0 0 0]\n",
      " [0 0 0 0 0 0 0 0 0 0 0 0 0]\n",
      " [0 0 0 0 0 0 0 0 0 0 0 0 0]\n",
      " [0 0 0 0 0 0 0 0 0 0 0 0 0]]\n"
     ]
    }
   ],
   "source": [
    "x_train = games[:,:-1,:,:]\n",
    "y_train = np.subtract(games[:,0:-1,:,:], games[:,1:,:,:])[:,:,lineFilterMatrixNP(x_train.shape[-1], x_train.shape[-2])]\n",
    "print(x_train.shape)\n",
    "print(y_train.shape)\n",
    "\n",
    "x_train = x_train.astype(K.floatx())\n",
    "y_train = y_train.astype(K.floatx())\n",
    "x_train /= 255\n",
    "#y_train /= 255\n",
    "\n",
    "np.set_printoptions(precision=2, suppress=True, linewidth=90)\n",
    "\n",
    "print(x_train[23,10])\n",
    "print(y_train[23,10])\n",
    "print(np.subtract(games[23,10:-1,:,:], games[23,11:,:,:])[10])\n"
   ]
  },
  {
   "cell_type": "code",
   "execution_count": 16,
   "metadata": {},
   "outputs": [
    {
     "name": "stdout",
     "output_type": "stream",
     "text": [
      "[[0.   0.   0.   0.   0.   0.   0.   0.   0.   0.   0.   0.   0.  ]\n",
      " [0.   0.84 0.   0.84 1.   0.84 0.   0.84 0.   0.84 0.   0.84 0.  ]\n",
      " [0.   1.   0.   0.   0.   0.   0.   1.   0.   0.   0.   0.   0.  ]\n",
      " [0.   0.84 0.   0.84 0.   0.84 0.   0.84 0.   0.84 0.   0.84 0.  ]\n",
      " [0.   0.   0.   0.   0.   0.   0.   1.   0.   0.   0.   0.   0.  ]\n",
      " [0.   0.84 0.   0.84 0.   0.84 0.   0.84 0.   0.84 1.   0.84 0.  ]\n",
      " [0.   1.   0.   0.   0.   0.   0.   1.   0.   0.   0.   1.   0.  ]\n",
      " [0.   0.84 0.   0.84 0.   0.84 0.   0.84 0.   0.84 0.   0.84 0.  ]\n",
      " [0.   0.   0.   0.   0.   0.   0.   0.   0.   1.   0.   0.   0.  ]\n",
      " [0.   0.84 0.   0.84 0.   0.84 1.   0.84 1.   0.84 0.   0.84 0.  ]\n",
      " [0.   0.   0.   0.   0.   0.   0.   0.   0.   0.   0.   0.   0.  ]]\n",
      "[0. 0. 0. 0. 0. 0. 0. 0. 0. 0. 0. 0. 0. 0. 0. 0. 0. 0. 0. 0. 0. 0. 0. 0. 0. 0. 0. 0. 0.\n",
      " 0. 0. 0. 0. 0. 0. 0. 0. 0. 0. 0. 0. 0. 0. 0. 1. 0. 0. 0. 0.]\n"
     ]
    }
   ],
   "source": [
    "\n",
    "exampleGameIdx = 23\n",
    "exampleGameFrame = 10\n",
    "\n",
    "print(x_train[exampleGameIdx,exampleGameFrame])\n",
    "print(y_train[exampleGameIdx,exampleGameFrame])"
   ]
  },
  {
   "cell_type": "code",
   "execution_count": 17,
   "metadata": {},
   "outputs": [
    {
     "name": "stdout",
     "output_type": "stream",
     "text": [
      "(50000, 48, 11, 13, 1)\n"
     ]
    }
   ],
   "source": [
    "x_train = x_train.reshape(x_train.shape + (1,))\n",
    "print(x_train.shape)"
   ]
  },
  {
   "cell_type": "markdown",
   "metadata": {},
   "source": [
    "## Training"
   ]
  },
  {
   "cell_type": "code",
   "execution_count": 23,
   "metadata": {},
   "outputs": [
    {
     "name": "stdout",
     "output_type": "stream",
     "text": [
      "Train on 47500 samples, validate on 2500 samples\n",
      "Epoch 1/2\n",
      "Epoch 1/2\n",
      "47500/47500 [==============================] - 4812s 101ms/step - loss: 0.0661 - val_loss: 1.5110e-06\n",
      "47500/47500 [==============================] - 4813s 101ms/step - loss: 0.0661 - val_loss: 1.5110e-06\n",
      "Epoch 2/2\n",
      "Epoch 2/2\n",
      "47500/47500 [==============================] - 4838s 102ms/step - loss: 9.3309e-07 - val_loss: 6.4875e-07\n",
      "47500/47500 [==============================] - 4838s 102ms/step - loss: 9.3309e-07 - val_loss: 6.4875e-07\n"
     ]
    }
   ],
   "source": [
    "callbacks = []\n",
    "\n",
    "checkpoint = ModelCheckpoint(filepath=modelPath+\".checkpoint\", save_weights_only=False)\n",
    "callbacks.append(checkpoint)\n",
    "\n",
    "progbar = ProgbarLogger()\n",
    "callbacks.append(progbar)\n",
    "\n",
    "model.fit(x_train, y_train, callbacks=callbacks, batch_size=20, epochs=2, validation_split=0.05)\n",
    "model.save(modelPath)"
   ]
  },
  {
   "cell_type": "code",
   "execution_count": 24,
   "metadata": {},
   "outputs": [],
   "source": [
    "def linesToDotsAndBoxesImage(lines, imgWidth, imgHeight):\n",
    "    boxWidth = imgSizeToBoxes(imgWidth)\n",
    "    boxHeight = imgSizeToBoxes(imgHeight)\n",
    "    linesCnt = 2*boxWidth*boxHeight+boxWidth+boxHeight\n",
    "    mat = np.zeros((imgHeight, imgWidth), dtype=lines.dtype)\n",
    "    for idx in range(linesCnt):\n",
    "        y1 = idx / ((2*boxWidth) + 1)\n",
    "        if idx % ((2*boxWidth) + 1) < boxWidth:\n",
    "            # horizontal line\n",
    "            x1 = idx % ((2*boxWidth) + 1)\n",
    "            x2 = x1 + 1\n",
    "            y2 = y1\n",
    "        else:\n",
    "            # vertical line\n",
    "            x1 = idx % ((2*boxWidth) + 1) - boxWidth\n",
    "            x2 = x1\n",
    "            y2 = y1 + 1\n",
    "        px = x2 * 2 + y2 - y1\n",
    "        py = y2 * 2 + x2 - x1\n",
    "        mat[py,px] = lines[idx]\n",
    "    return mat"
   ]
  },
  {
   "cell_type": "code",
   "execution_count": 28,
   "metadata": {},
   "outputs": [
    {
     "name": "stdout",
     "output_type": "stream",
     "text": [
      "sample 12143\n",
      "(1, 32, 49)\n",
      "(49,)\n",
      "(11, 13)\n",
      "input:\n",
      "(50000, 48, 11, 13, 1)\n",
      "[[0.   0.   0.   0.   0.   0.   0.   0.   0.   0.   0.   0.   0.  ]\n",
      " [0.   0.84 1.   0.84 1.   0.84 0.   0.84 1.   0.84 1.   0.84 0.  ]\n",
      " [0.   1.   0.25 1.   0.25 1.   0.   1.   0.   0.   0.   0.   0.  ]\n",
      " [0.   0.84 1.   0.84 1.   0.84 0.   0.84 0.   0.84 1.   0.84 0.  ]\n",
      " [0.   1.   0.   1.   0.   0.   0.   1.   0.   0.   0.   1.   0.  ]\n",
      " [0.   0.84 0.   0.84 0.   0.84 1.   0.84 1.   0.84 0.   0.84 0.  ]\n",
      " [0.   1.   0.   0.   0.   1.   0.   0.   0.   0.   0.   1.   0.  ]\n",
      " [0.   0.84 1.   0.84 1.   0.84 0.   0.84 1.   0.84 1.   0.84 0.  ]\n",
      " [0.   1.   0.59 1.   0.59 1.   0.   0.   0.   1.   0.59 1.   0.  ]\n",
      " [0.   0.84 1.   0.84 1.   0.84 1.   0.84 0.   0.84 1.   0.84 0.  ]\n",
      " [0.   0.   0.   0.   0.   0.   0.   0.   0.   0.   0.   0.   0.  ]]\n",
      "prediction:\n",
      "[[0.   0.   0.   0.   0.   0.   0.   0.   0.   0.   0.   0.   0.  ]\n",
      " [0.   0.   0.   0.   0.   0.   0.25 0.   0.   0.   0.   0.   0.  ]\n",
      " [0.   0.45 0.   0.   0.   0.   0.   0.   0.   0.   0.   0.   0.  ]\n",
      " [0.   0.   0.   0.   0.   0.   0.   0.   0.   0.   0.   0.   0.  ]\n",
      " [0.   0.   0.   0.   0.   0.   0.   0.   0.   0.02 0.   0.   0.  ]\n",
      " [0.   0.   0.01 0.   0.1  0.   0.   0.   0.   0.   0.01 0.   0.  ]\n",
      " [0.   0.   0.   0.   0.   0.   0.   0.   0.   0.   0.   0.   0.  ]\n",
      " [0.   0.   0.   0.   0.   0.   0.01 0.   0.   0.   0.   0.   0.  ]\n",
      " [0.   0.   0.   0.   0.   0.   0.   0.02 0.   0.   0.   0.   0.  ]\n",
      " [0.   0.   0.   0.   0.   0.   0.   0.   0.13 0.   0.   0.   0.  ]\n",
      " [0.   0.   0.   0.   0.   0.   0.   0.   0.   0.   0.   0.   0.  ]]\n",
      "(11, 13, 3)\n"
     ]
    },
    {
     "data": {
      "image/png": "[encoded data removed]",
      "text/plain": [
       "<PIL.Image.Image image mode=RGB size=130x110 at 0x7F450B189610>"
      ]
     },
     "execution_count": 28,
     "metadata": {},
     "output_type": "execute_result"
    }
   ],
   "source": [
    "example = random.randrange(x_train.shape[0])\n",
    "print(\"sample \" + str(example))\n",
    "exampleFrame = 32\n",
    "input_data = np.array([x_train[example,0:exampleFrame,::,::,::]])\n",
    "prediction = model.predict(input_data)\n",
    "print(prediction.shape)\n",
    "prediction = prediction[0, -1, ::]\n",
    "print(prediction.shape)\n",
    "prediction = linesToDotsAndBoxesImage(prediction, x_train.shape[-2], x_train.shape[-3])\n",
    "print(prediction.shape)\n",
    "\n",
    "print(\"input:\")\n",
    "print(x_train.shape)\n",
    "print(x_train[example,exampleFrame,::,::,0])\n",
    "\n",
    "print(\"prediction:\")\n",
    "print(prediction)\n",
    "\n",
    "# create image\n",
    "target_imgdata = x_train[example,exampleFrame,::,::,0] * 255\n",
    "target_imgdata = target_imgdata.astype(np.uint8)\n",
    "\n",
    "prediction_imgdata = prediction * 255\n",
    "prediction_imgdata = prediction_imgdata.astype(np.uint8)\n",
    "\n",
    "# merge image data in color channels\n",
    "tmp = np.zeros(prediction.shape, dtype=np.uint8)\n",
    "merged_imgdata = np.stack([target_imgdata, prediction_imgdata, tmp], axis=2)\n",
    "merged_imgdata_large = np.append(target_imgdata, prediction_imgdata, axis=1)\n",
    "print(merged_imgdata.shape)\n",
    "\n",
    "#create image\n",
    "img = Image.fromarray(merged_imgdata, 'RGB')\n",
    "#img = Image.fromarray(merged_imgdata_large, 'P')\n",
    "img = img.resize(size=(img.size[0]*10, img.size[1]*10))\n",
    "\n",
    "img"
   ]
  },
  {
   "cell_type": "code",
   "execution_count": null,
   "metadata": {},
   "outputs": [],
   "source": [
    "target_imgdata = x_train[example,:,:,0] * 255\n",
    "target_imgdata = target_imgdata.astype(np.uint8)\n",
    "\n",
    "prediction_imgdata = prediction[0] * 255\n",
    "prediction_imgdata = prediction_imgdata.astype(np.uint8)\n",
    "\n",
    "# merge image data in color channels\n",
    "tmp = np.zeros((prediction[0].shape[0], prediction[0].shape[1]), dtype=np.uint8)\n",
    "merged_imgdata = np.stack([target_imgdata, prediction_imgdata[:,:,1], tmp], axis=2)\n",
    "\n",
    "#create image\n",
    "img = Image.fromarray(merged_imgdata, 'RGB')\n",
    "img = img.resize(size=(img.size[0]*10, img.size[1]*10))\n",
    "\n",
    "img"
   ]
  }
 ],
 "metadata": {
  "kernelspec": {
   "display_name": "Python 2",
   "language": "python2",
   "name": "python2"
  },
  "language_info": {
   "codemirror_mode": {
    "name": "ipython",
    "version": 2
   },
   "file_extension": ".py",
   "mimetype": "text/x-python",
   "name": "python",
   "nbconvert_exporter": "python",
   "pygments_lexer": "ipython2",
   "version": "2.7.14"
  }
 },
 "nbformat": 4,
 "nbformat_minor": 2
}
