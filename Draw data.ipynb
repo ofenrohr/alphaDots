{
 "cells": [
  {
   "cell_type": "markdown",
   "metadata": {},
   "source": [
    "# Render input and output data\n",
    "\n",
    "This notebook produces images for the thesis."
   ]
  },
  {
   "cell_type": "code",
   "execution_count": 1,
   "metadata": {},
   "outputs": [
    {
     "name": "stderr",
     "output_type": "stream",
     "text": [
      "Using TensorFlow backend.\n"
     ]
    }
   ],
   "source": [
    "import sys\n",
    "\n",
    "import numpy as np\n",
    "import tensorflow as tf\n",
    "from tensorflow.python import debug as tf_debug\n",
    "\n",
    "from keras.callbacks import *\n",
    "from keras.models import *\n",
    "from keras.layers import *\n",
    "from keras.optimizers import *\n",
    "from keras.initializers import *\n",
    "from keras.utils.np_utils import to_categorical\n",
    "from keras.utils import plot_model\n",
    "import keras.backend as K\n",
    "from keras.regularizers import l2\n",
    "from keras.engine.topology import Layer\n",
    "from keras.utils import plot_model\n",
    "from IPython.display import SVG\n",
    "from keras.utils.vis_utils import model_to_dot\n",
    "\n",
    "from PIL import Image\n",
    "from matplotlib.pyplot import imshow\n",
    "%matplotlib inline\n",
    "import random\n",
    "import gc\n",
    "\n",
    "from modelServer.models.LineFilterLayer import LineFilterLayer\n",
    "from modelServer.models.ValueLayer import ValueLayer"
   ]
  },
  {
   "cell_type": "code",
   "execution_count": 19,
   "metadata": {},
   "outputs": [],
   "source": [
    "def dotsAndBoxesToCategorical(inputData):\n",
    "    inp = np.copy(inputData)\n",
    "    inp[inp == 255] = 1 # Line - comes first so that target data only has two categories\n",
    "    inp[inp == 65] = 2 # Box A\n",
    "    inp[inp == 150] = 3 # Box B\n",
    "    inp[inp == 215] = 4 # Dot\n",
    "    cat = to_categorical(inp)\n",
    "    newShape = inp.shape + (cat.shape[-1],)\n",
    "    return cat.reshape(newShape)\n",
    "\n",
    "def imgSizeToBoxes(x):\n",
    "    return (x-3)/2\n",
    "\n",
    "def lineFilterMatrixNP(imgWidth,imgHeight):\n",
    "    boxWidth = imgSizeToBoxes(imgWidth)\n",
    "    boxHeight = imgSizeToBoxes(imgHeight)\n",
    "    linesCnt = 2*boxWidth*boxHeight+boxWidth+boxHeight\n",
    "    mat = np.zeros((imgHeight, imgWidth), dtype=np.bool)\n",
    "    for idx in range(linesCnt):\n",
    "        y1 = idx / ((2*boxWidth) + 1)\n",
    "        if idx % ((2*boxWidth) + 1) < boxWidth:\n",
    "            # horizontal line\n",
    "            x1 = idx % ((2*boxWidth) + 1)\n",
    "            x2 = x1 + 1\n",
    "            y2 = y1\n",
    "        else:\n",
    "            # vertical line\n",
    "            x1 = idx % ((2*boxWidth) + 1) - boxWidth\n",
    "            x2 = x1\n",
    "            y2 = y1 + 1\n",
    "        px = x2 * 2 + y2 - y1\n",
    "        py = y2 * 2 + x2 - x1\n",
    "        mat[py,px] = 1\n",
    "    return mat\n",
    "\n",
    "def loadPVDataset(datasetPath):\n",
    "    rawDataset = np.load(datasetPath)\n",
    "    \n",
    "    x_input = rawDataset['input']\n",
    "    y_policy = rawDataset['policy']\n",
    "    y_value = rawDataset['value']\n",
    "    \n",
    "    x_input = dotsAndBoxesToCategorical(x_input)\n",
    "    y_policy = y_policy[:,lineFilterMatrixNP(y_policy.shape[-1], y_policy.shape[-2])]\n",
    "    y_policy /= 255\n",
    "    \n",
    "    return (x_input, y_policy, y_value)\n",
    "\n",
    "def linesToDotsAndBoxesImage(lines, imgWidth, imgHeight):\n",
    "    boxWidth = imgSizeToBoxes(imgWidth)\n",
    "    boxHeight = imgSizeToBoxes(imgHeight)\n",
    "    linesCnt = 2*boxWidth*boxHeight+boxWidth+boxHeight\n",
    "    mat = np.zeros((imgHeight, imgWidth), dtype=lines.dtype)\n",
    "    for idx in range(linesCnt):\n",
    "        y1 = idx / ((2*boxWidth) + 1)\n",
    "        if idx % ((2*boxWidth) + 1) < boxWidth:\n",
    "            # horizontal line\n",
    "            x1 = idx % ((2*boxWidth) + 1)\n",
    "            x2 = x1 + 1\n",
    "            y2 = y1\n",
    "        else:\n",
    "            # vertical line\n",
    "            x1 = idx % ((2*boxWidth) + 1) - boxWidth\n",
    "            x2 = x1\n",
    "            y2 = y1 + 1\n",
    "        px = x2 * 2 + y2 - y1\n",
    "        py = y2 * 2 + x2 - x1\n",
    "        mat[py,px] = lines[idx]\n",
    "    return mat\n",
    "\n",
    "def createImage(data):\n",
    "    # merge image data in color channels\n",
    "    merged_imgdata = np.stack([data, data, data], axis=2)\n",
    "    #create image\n",
    "    img = Image.fromarray(merged_imgdata, 'RGB')\n",
    "    img = img.resize(size=(img.size[0]*10, img.size[1]*10))\n",
    "    return img"
   ]
  },
  {
   "cell_type": "markdown",
   "metadata": {},
   "source": [
    "## StageOne data"
   ]
  },
  {
   "cell_type": "code",
   "execution_count": 21,
   "metadata": {},
   "outputs": [
    {
     "name": "stdout",
     "output_type": "stream",
     "text": [
      "x_train[0]:\n",
      "[[  0   0   0   0   0   0   0   0   0]\n",
      " [  0 215 255 215 255 215 255 215   0]\n",
      " [  0 255  65 255  65 255  65 255   0]\n",
      " [  0 215 255 215 255 215 255 215   0]\n",
      " [  0   0   0 255  65 255  65 255   0]\n",
      " [  0 215 255 215 255 215 255 215   0]\n",
      " [  0 255 150 255   0   0   0 255   0]\n",
      " [  0 215 255 215 255 215   0 215   0]\n",
      " [  0   0   0   0   0   0   0   0   0]]\n",
      "y_train[0]:\n",
      "[[  0   0   0   0   0   0   0   0   0]\n",
      " [  0   0   0   0   0   0   0   0   0]\n",
      " [  0   0   0   0   0   0   0   0   0]\n",
      " [  0   0   0   0   0   0   0   0   0]\n",
      " [  0 255   0   0   0   0   0   0   0]\n",
      " [  0   0   0   0   0   0   0   0   0]\n",
      " [  0   0   0   0   0   0   0   0   0]\n",
      " [  0   0   0   0   0   0   0   0   0]\n",
      " [  0   0   0   0   0   0   0   0   0]]\n"
     ]
    },
    {
     "data": {
      "image/png": "[encoded data removed]",
      "text/plain": [
       "<PIL.Image.Image image mode=RGB size=90x90 at 0x7F7E1C47AB50>"
      ]
     },
     "execution_count": 21,
     "metadata": {},
     "output_type": "execute_result"
    }
   ],
   "source": [
    "firstTryDataset = np.load('StageOne-3x3.npz')\n",
    "x_train = firstTryDataset['x_train']\n",
    "y_train = firstTryDataset['y_train']\n",
    "\n",
    "print(\"x_train[0]:\")\n",
    "print(x_train[0])\n",
    "print(\"y_train[0]:\")\n",
    "print(y_train[0])\n",
    "\n",
    "createImage(x_train[0])"
   ]
  },
  {
   "cell_type": "markdown",
   "metadata": {},
   "source": [
    "## Categorical input data (planes)"
   ]
  },
  {
   "cell_type": "code",
   "execution_count": 22,
   "metadata": {},
   "outputs": [
    {
     "data": {
      "text/plain": [
       "(8, 9, 9, 5)"
      ]
     },
     "execution_count": 22,
     "metadata": {},
     "output_type": "execute_result"
    }
   ],
   "source": [
    "x_train_cat = dotsAndBoxesToCategorical(x_train)\n",
    "x_train_cat.shape"
   ]
  },
  {
   "cell_type": "code",
   "execution_count": 30,
   "metadata": {},
   "outputs": [
    {
     "name": "stdout",
     "output_type": "stream",
     "text": [
      "[[255 255 255 255 255 255 255 255 255]\n",
      " [255   0   0   0   0   0   0   0 255]\n",
      " [255   0   0   0   0   0   0   0 255]\n",
      " [255   0   0   0   0   0   0   0 255]\n",
      " [255 255 255   0   0   0   0   0 255]\n",
      " [255   0   0   0   0   0   0   0 255]\n",
      " [255   0   0   0 255 255 255   0 255]\n",
      " [255   0   0   0   0   0 255   0 255]\n",
      " [255 255 255 255 255 255 255 255 255]]\n"
     ]
    },
    {
     "data": {
      "image/png": "[encoded data removed]",
      "text/plain": [
       "<PIL.Image.Image image mode=RGB size=90x90 at 0x7F7E1C47A610>"
      ]
     },
     "execution_count": 30,
     "metadata": {},
     "output_type": "execute_result"
    }
   ],
   "source": [
    "plane = 0\n",
    "print(x_train_cat[0,::,::,plane].astype(np.uint8)*255)\n",
    "createImage(x_train_cat[0,::,::,plane].astype(np.uint8)*255)"
   ]
  },
  {
   "cell_type": "code",
   "execution_count": 31,
   "metadata": {},
   "outputs": [
    {
     "name": "stdout",
     "output_type": "stream",
     "text": [
      "[[  0   0   0   0   0   0   0   0   0]\n",
      " [  0   0 255   0 255   0 255   0   0]\n",
      " [  0 255   0 255   0 255   0 255   0]\n",
      " [  0   0 255   0 255   0 255   0   0]\n",
      " [  0   0   0 255   0 255   0 255   0]\n",
      " [  0   0 255   0 255   0 255   0   0]\n",
      " [  0 255   0 255   0   0   0 255   0]\n",
      " [  0   0 255   0 255   0   0   0   0]\n",
      " [  0   0   0   0   0   0   0   0   0]]\n"
     ]
    },
    {
     "data": {
      "image/png": "[encoded data removed]",
      "text/plain": [
       "<PIL.Image.Image image mode=RGB size=90x90 at 0x7F7E1C98F750>"
      ]
     },
     "execution_count": 31,
     "metadata": {},
     "output_type": "execute_result"
    }
   ],
   "source": [
    "plane = 1\n",
    "print(x_train_cat[0,::,::,plane].astype(np.uint8)*255)\n",
    "createImage(x_train_cat[0,::,::,plane].astype(np.uint8)*255)"
   ]
  },
  {
   "cell_type": "code",
   "execution_count": 32,
   "metadata": {},
   "outputs": [
    {
     "name": "stdout",
     "output_type": "stream",
     "text": [
      "[[  0   0   0   0   0   0   0   0   0]\n",
      " [  0   0   0   0   0   0   0   0   0]\n",
      " [  0   0 255   0 255   0 255   0   0]\n",
      " [  0   0   0   0   0   0   0   0   0]\n",
      " [  0   0   0   0 255   0 255   0   0]\n",
      " [  0   0   0   0   0   0   0   0   0]\n",
      " [  0   0   0   0   0   0   0   0   0]\n",
      " [  0   0   0   0   0   0   0   0   0]\n",
      " [  0   0   0   0   0   0   0   0   0]]\n"
     ]
    },
    {
     "data": {
      "image/png": "[encoded data removed]",
      "text/plain": [
       "<PIL.Image.Image image mode=RGB size=90x90 at 0x7F7E1C4ED810>"
      ]
     },
     "execution_count": 32,
     "metadata": {},
     "output_type": "execute_result"
    }
   ],
   "source": [
    "plane = 2\n",
    "print(x_train_cat[0,::,::,plane].astype(np.uint8)*255)\n",
    "createImage(x_train_cat[0,::,::,plane].astype(np.uint8)*255)"
   ]
  },
  {
   "cell_type": "code",
   "execution_count": 33,
   "metadata": {},
   "outputs": [
    {
     "name": "stdout",
     "output_type": "stream",
     "text": [
      "[[  0   0   0   0   0   0   0   0   0]\n",
      " [  0   0   0   0   0   0   0   0   0]\n",
      " [  0   0   0   0   0   0   0   0   0]\n",
      " [  0   0   0   0   0   0   0   0   0]\n",
      " [  0   0   0   0   0   0   0   0   0]\n",
      " [  0   0   0   0   0   0   0   0   0]\n",
      " [  0   0 255   0   0   0   0   0   0]\n",
      " [  0   0   0   0   0   0   0   0   0]\n",
      " [  0   0   0   0   0   0   0   0   0]]\n"
     ]
    },
    {
     "data": {
      "image/png": "[encoded data removed]",
      "text/plain": [
       "<PIL.Image.Image image mode=RGB size=90x90 at 0x7F7E1C537390>"
      ]
     },
     "execution_count": 33,
     "metadata": {},
     "output_type": "execute_result"
    }
   ],
   "source": [
    "plane = 3\n",
    "print(x_train_cat[0,::,::,plane].astype(np.uint8)*255)\n",
    "createImage(x_train_cat[0,::,::,plane].astype(np.uint8)*255)"
   ]
  },
  {
   "cell_type": "code",
   "execution_count": 34,
   "metadata": {},
   "outputs": [
    {
     "name": "stdout",
     "output_type": "stream",
     "text": [
      "[[  0   0   0   0   0   0   0   0   0]\n",
      " [  0 255   0 255   0 255   0 255   0]\n",
      " [  0   0   0   0   0   0   0   0   0]\n",
      " [  0 255   0 255   0 255   0 255   0]\n",
      " [  0   0   0   0   0   0   0   0   0]\n",
      " [  0 255   0 255   0 255   0 255   0]\n",
      " [  0   0   0   0   0   0   0   0   0]\n",
      " [  0 255   0 255   0 255   0 255   0]\n",
      " [  0   0   0   0   0   0   0   0   0]]\n"
     ]
    },
    {
     "data": {
      "image/png": "[encoded data removed]",
      "text/plain": [
       "<PIL.Image.Image image mode=RGB size=90x90 at 0x7F7E9856FA10>"
      ]
     },
     "execution_count": 34,
     "metadata": {},
     "output_type": "execute_result"
    }
   ],
   "source": [
    "plane = 4\n",
    "print(x_train_cat[0,::,::,plane].astype(np.uint8)*255)\n",
    "createImage(x_train_cat[0,::,::,plane].astype(np.uint8)*255)"
   ]
  },
  {
   "cell_type": "code",
   "execution_count": null,
   "metadata": {},
   "outputs": [],
   "source": []
  }
 ],
 "metadata": {
  "kernelspec": {
   "display_name": "Python 2",
   "language": "python2",
   "name": "python2"
  },
  "language_info": {
   "codemirror_mode": {
    "name": "ipython",
    "version": 2
   },
   "file_extension": ".py",
   "mimetype": "text/x-python",
   "name": "python",
   "nbconvert_exporter": "python",
   "pygments_lexer": "ipython2",
   "version": "2.7.15"
  }
 },
 "nbformat": 4,
 "nbformat_minor": 2
}
