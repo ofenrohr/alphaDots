{
 "cells": [
  {
   "cell_type": "markdown",
   "metadata": {},
   "source": [
    "## Lines to image\n",
    "\n",
    "Convert onehot line list to a Dots and Boxes image"
   ]
  },
  {
   "cell_type": "code",
   "execution_count": 1,
   "metadata": {},
   "outputs": [],
   "source": [
    "import numpy as np"
   ]
  },
  {
   "cell_type": "code",
   "execution_count": 11,
   "metadata": {},
   "outputs": [],
   "source": [
    "def imgSizeToBoxes(x):\n",
    "    if x is None:\n",
    "        return None\n",
    "    return (x-3)/2\n",
    "\n",
    "def linesToDotsAndBoxesImage(lines, imgWidth, imgHeight):\n",
    "    boxWidth = imgSizeToBoxes(imgWidth)\n",
    "    boxHeight = imgSizeToBoxes(imgHeight)\n",
    "    linesCnt = 2*boxWidth*boxHeight+boxWidth+boxHeight\n",
    "    mat = np.zeros((imgHeight, imgWidth), dtype=np.bool)\n",
    "    for idx in range(linesCnt):\n",
    "        y1 = idx / ((2*boxWidth) + 1)\n",
    "        if idx % ((2*boxWidth) + 1) < boxWidth:\n",
    "            # horizontal line\n",
    "            x1 = idx % ((2*boxWidth) + 1)\n",
    "            x2 = x1 + 1\n",
    "            y2 = y1\n",
    "        else:\n",
    "            # vertical line\n",
    "            x1 = idx % ((2*boxWidth) + 1) - boxWidth\n",
    "            x2 = x1\n",
    "            y2 = y1 + 1\n",
    "        px = x2 * 2 + y2 - y1\n",
    "        py = y2 * 2 + x2 - x1\n",
    "        mat[py,px] = lines[idx]\n",
    "    return mat"
   ]
  },
  {
   "cell_type": "code",
   "execution_count": 12,
   "metadata": {},
   "outputs": [
    {
     "data": {
      "text/plain": [
       "array([1., 1., 1., 1., 1., 1., 1., 1., 1., 1., 1., 1., 1., 1., 1., 1., 1.,\n",
       "       1., 1., 1., 1., 1., 1., 1., 1., 1., 1., 1., 1., 1., 1., 1., 1., 1.,\n",
       "       1., 1., 1., 1., 1., 1., 1., 1., 1., 1., 1., 1., 1., 1., 1.])"
      ]
     },
     "execution_count": 12,
     "metadata": {},
     "output_type": "execute_result"
    }
   ],
   "source": [
    "lines = np.ones((49,))\n",
    "lines"
   ]
  },
  {
   "cell_type": "code",
   "execution_count": 17,
   "metadata": {},
   "outputs": [
    {
     "data": {
      "text/plain": [
       "array([[0, 0, 0, 0, 0, 0, 0, 0, 0, 0, 0, 0, 0],\n",
       "       [0, 0, 1, 0, 1, 0, 1, 0, 1, 0, 1, 0, 0],\n",
       "       [0, 1, 0, 1, 0, 1, 0, 1, 0, 1, 0, 1, 0],\n",
       "       [0, 0, 1, 0, 1, 0, 1, 0, 1, 0, 1, 0, 0],\n",
       "       [0, 1, 0, 1, 0, 1, 0, 1, 0, 1, 0, 1, 0],\n",
       "       [0, 0, 1, 0, 1, 0, 1, 0, 1, 0, 1, 0, 0],\n",
       "       [0, 1, 0, 1, 0, 1, 0, 1, 0, 1, 0, 1, 0],\n",
       "       [0, 0, 1, 0, 1, 0, 1, 0, 1, 0, 1, 0, 0],\n",
       "       [0, 1, 0, 1, 0, 1, 0, 1, 0, 1, 0, 1, 0],\n",
       "       [0, 0, 1, 0, 1, 0, 1, 0, 1, 0, 1, 0, 0],\n",
       "       [0, 0, 0, 0, 0, 0, 0, 0, 0, 0, 0, 0, 0]], dtype=uint8)"
      ]
     },
     "execution_count": 17,
     "metadata": {},
     "output_type": "execute_result"
    }
   ],
   "source": [
    "linesToDotsAndBoxesImage(lines, 13,11).astype(np.uint8)"
   ]
  },
  {
   "cell_type": "code",
   "execution_count": null,
   "metadata": {},
   "outputs": [],
   "source": []
  }
 ],
 "metadata": {
  "kernelspec": {
   "display_name": "Python 2",
   "language": "python2",
   "name": "python2"
  },
  "language_info": {
   "codemirror_mode": {
    "name": "ipython",
    "version": 2
   },
   "file_extension": ".py",
   "mimetype": "text/x-python",
   "name": "python",
   "nbconvert_exporter": "python",
   "pygments_lexer": "ipython2",
   "version": "2.7.14"
  }
 },
 "nbformat": 4,
 "nbformat_minor": 2
}
